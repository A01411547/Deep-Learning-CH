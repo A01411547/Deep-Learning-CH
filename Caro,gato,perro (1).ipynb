{
 "cells": [
  {
   "cell_type": "code",
   "execution_count": null,
   "metadata": {},
   "outputs": [],
   "source": [
    "#!pip install tensorflow\n",
    "import tensorflow as tf\n",
    "from tensorflow import keras\n",
    "from tensorflow.keras import layers \n"
   ]
  },
  {
   "cell_type": "markdown",
   "metadata": {},
   "source": [
    "# Clasificador de imágenes de perros y gatos\n",
    "## Carolina Herrera Martinez \n",
    "\n",
    "Este clasificador se encarga de diferenciar entre perros y gatos a través de una red neuronal profunda.\n",
    "\n",
    "Para crear el modelo se utiliza como base el modelo VGG16, cambiando solamente la parte final para adecuarla a una clasificación binaria (perro y gato)"
   ]
  },
  {
   "cell_type": "markdown",
   "metadata": {},
   "source": [
    "Como primer paso, se importan las imágenes a utilizar en el modelo"
   ]
  },
  {
   "cell_type": "code",
   "execution_count": 73,
   "metadata": {},
   "outputs": [
    {
     "name": "stdout",
     "output_type": "stream",
     "text": [
      "Found 23998 files belonging to 2 classes.\n",
      "Using 11999 files for training.\n"
     ]
    }
   ],
   "source": [
    "from tensorflow.keras import utils\n",
    "data_dir = \"C:/Users/Hunter/Downloads/train\"\n",
    "batch_size = 16\n",
    "train_ds = tf.keras.utils.image_dataset_from_directory(\n",
    "  data_dir,\n",
    "  validation_split=0.5,\n",
    "  subset=\"training\",\n",
    "  seed=123,\n",
    "  image_size=(224, 224),\n",
    "  batch_size=batch_size)"
   ]
  },
  {
   "cell_type": "code",
   "execution_count": 74,
   "metadata": {},
   "outputs": [
    {
     "name": "stdout",
     "output_type": "stream",
     "text": [
      "Found 1002 files belonging to 2 classes.\n",
      "Using 200 files for validation.\n"
     ]
    }
   ],
   "source": [
    "data_dir = \"C:/Users/Hunter/Downloads/test1\"\n",
    "batch_size = 16\n",
    "val_ds = tf.keras.utils.image_dataset_from_directory(\n",
    "  data_dir,\n",
    "  validation_split=0.2,\n",
    "  subset=\"validation\",\n",
    "  seed=123,\n",
    "  image_size=(224, 224),\n",
    "  batch_size=batch_size)"
   ]
  },
  {
   "cell_type": "markdown",
   "metadata": {},
   "source": [
    "Ahora procedemos a importar el modelo vgg16 y a editar su capa final"
   ]
  },
  {
   "cell_type": "code",
   "execution_count": 151,
   "metadata": {},
   "outputs": [],
   "source": [
    "# importar vgg16\n",
    "mymodel = keras.applications.VGG16(include_top=True)\n",
    "mymodel.trainable=False\n",
    "\n",
    "inicio_red =mymodel.layers[0].input\n",
    "#agregar una capa densa al final \n",
    "dos_antes_del_final_red =mymodel.layers[-2].output\n",
    "#usamos una activación de sigmoide para que vaya de 0 a 1 el resultado\n",
    "final_personalizado =layers.Dense(1, activation = \"sigmoid\")(dos_antes_del_final_red)\n",
    "\n",
    "#compilamos el modelo usando un algoritmo binario de cross entropy y un optimizador adam\n",
    "megustanlosperritos = keras.Model(inicio_red,final_personalizado)\n",
    "megustanlosperritos.compile(\n",
    "    metrics=[\"accuracy\"],\n",
    "    loss=[keras.losses.BinaryCrossentropy()],\n",
    "    optimizer=keras.optimizers.Adam(),\n",
    ")"
   ]
  },
  {
   "cell_type": "code",
   "execution_count": 152,
   "metadata": {},
   "outputs": [],
   "source": [
    "#megustanlosperritos.summary()"
   ]
  },
  {
   "cell_type": "code",
   "execution_count": 153,
   "metadata": {},
   "outputs": [
    {
     "name": "stdout",
     "output_type": "stream",
     "text": [
      "Epoch 1/5\n",
      "8/8 [==============================] - 38s 5s/step - loss: 0.5258 - accuracy: 0.8047 - val_loss: 0.2159 - val_accuracy: 0.9297\n",
      "Epoch 2/5\n",
      "8/8 [==============================] - 41s 6s/step - loss: 0.2091 - accuracy: 0.9453 - val_loss: 0.2744 - val_accuracy: 0.9141\n",
      "Epoch 3/5\n",
      "8/8 [==============================] - 43s 6s/step - loss: 0.1334 - accuracy: 0.9297 - val_loss: 0.1675 - val_accuracy: 0.9219\n",
      "Epoch 4/5\n",
      "8/8 [==============================] - 50s 7s/step - loss: 0.1468 - accuracy: 0.9531 - val_loss: 0.1677 - val_accuracy: 0.9375\n",
      "Epoch 5/5\n",
      "8/8 [==============================] - 50s 7s/step - loss: 0.1941 - accuracy: 0.9453 - val_loss: 0.1407 - val_accuracy: 0.9453\n"
     ]
    }
   ],
   "source": [
    "# hacemos fit al modelo\n",
    "history = megustanlosperritos.fit(\n",
    "train_ds,\n",
    "steps_per_epoch=8,\n",
    "epochs=5,\n",
    "verbose=1,\n",
    "validation_data = val_ds,\n",
    "validation_steps=8 )"
   ]
  },
  {
   "cell_type": "code",
   "execution_count": 209,
   "metadata": {},
   "outputs": [],
   "source": [
    "#guardamos el modelo\n",
    "megustanlosperritos.save('perritos_y_ygatitos.h5')"
   ]
  },
  {
   "cell_type": "code",
   "execution_count": null,
   "metadata": {},
   "outputs": [],
   "source": []
  }
 ],
 "metadata": {
  "kernelspec": {
   "display_name": "Python 3 (ipykernel)",
   "language": "python",
   "name": "python3"
  },
  "language_info": {
   "codemirror_mode": {
    "name": "ipython",
    "version": 3
   },
   "file_extension": ".py",
   "mimetype": "text/x-python",
   "name": "python",
   "nbconvert_exporter": "python",
   "pygments_lexer": "ipython3",
   "version": "3.9.13"
  },
  "vscode": {
   "interpreter": {
    "hash": "014c37e64f0810810447c88ae7e08661be89ce0ee0356b34fd4ad38c08875cad"
   }
  }
 },
 "nbformat": 4,
 "nbformat_minor": 2
}
